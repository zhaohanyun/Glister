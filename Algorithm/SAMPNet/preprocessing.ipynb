{
  "nbformat": 4,
  "nbformat_minor": 0,
  "metadata": {
    "colab": {
      "name": "preprocessing.ipynb",
      "provenance": [],
      "collapsed_sections": []
    },
    "kernelspec": {
      "name": "python3",
      "display_name": "Python 3"
    },
    "language_info": {
      "name": "python"
    }
  },
  "cells": [
    {
      "cell_type": "code",
      "execution_count": null,
      "metadata": {
        "id": "nzbp5in2v7Bm"
      },
      "outputs": [],
      "source": [
        "import sklearn\n",
        "import numpy as np\n",
        "import pandas as pd\n",
        "import json\n",
        "from tqdm import tqdm\n",
        "import pickle\n",
        "from sklearn.linear_model import LinearRegression\n",
        "from sklearn.svm import SVR"
      ]
    },
    {
      "cell_type": "code",
      "source": [
        "all_scores_path = \"/content/drive/Shareddrives/VE441/Scoring System/CADB_finetuning/CADB_Dataset/CADB_Dataset/composition_scores.json\""
      ],
      "metadata": {
        "id": "rxG1oiw9xSls"
      },
      "execution_count": null,
      "outputs": []
    },
    {
      "cell_type": "code",
      "source": [
        "X = json.load(open(all_scores_path, 'r'))"
      ],
      "metadata": {
        "id": "wsVXj4efxWtt"
      },
      "execution_count": null,
      "outputs": []
    },
    {
      "cell_type": "code",
      "source": [
        "img_overall_scores_dict = {}\n",
        "for img_name, img_scores in X.items():\n",
        "  img_overall_scores_dict[img_name] = img_scores[\"mean\"]\n"
      ],
      "metadata": {
        "id": "PsHmnu4SxZ8V"
      },
      "execution_count": null,
      "outputs": []
    },
    {
      "cell_type": "code",
      "source": [
        "with open(\"/content/drive/Shareddrives/VE441/Scoring System/CADB_finetuning/processed_CADB.pkl\", \"wb\") as trg:\n",
        "  pickle.dump(img_overall_scores_dict, trg)"
      ],
      "metadata": {
        "id": "XtMXx4QCx0GA"
      },
      "execution_count": null,
      "outputs": []
    },
    {
      "cell_type": "code",
      "source": [
        "# Retraining\n",
        "from sklearn.model_selection import train_test_split\n",
        "from sklearn.preprocessing import StandardScaler\n",
        "\n",
        "## get preprocessed CADB data \n",
        "def get_data(cade_path=\"/content/drive/Shareddrives/VE441/Scoring System/CADB_finetuning/processed_CADB.pkl\",\n",
        "             added_imgs=None, added_scores=None):\n",
        "  with open(cade_path, \"rb\") as trg:\n",
        "    img_score_dict = pickle.load(trg)\n",
        "  img_list = list(img_score_dict.keys())\n",
        "  score_list = list(img_score_dict.values())\n",
        "  if added_imgs is not None and len(added_imgs)>100:\n",
        "    img_list.extend(added_imgs)\n",
        "    score_list.extend(added_scores)\n",
        "  return img_list, score_list\n",
        "\n",
        "def finetune_scoring(img_list, score_list):  \n",
        "  scale_X = StandardScaler()\n",
        "  scale_y = StandardScaler()\n",
        "\n",
        "  X = scale_X.fit_transform(img_list)\n",
        "  y = scale_y.fit_transform(score_list)\n",
        "\n",
        "  X_train,X_test,Y_train,Y_test=train_test_split(img_list, score_list, test_size=0.1, random_state=42)\n",
        "  logreg = SVR(kernel='rbf', gamma='auto')\n",
        "  logreg.fit(X_train,Y_train)\n",
        "  return logreg\n"
      ],
      "metadata": {
        "id": "e-PzUFToyJl0"
      },
      "execution_count": 14,
      "outputs": []
    },
    {
      "cell_type": "code",
      "source": [
        ""
      ],
      "metadata": {
        "id": "Sr0gfCLU2pf7"
      },
      "execution_count": null,
      "outputs": []
    }
  ]
}